{
 "cells": [
  {
   "cell_type": "code",
   "execution_count": 15,
   "metadata": {},
   "outputs": [
    {
     "name": "stdout",
     "output_type": "stream",
     "text": [
      "['__class__', '__delattr__', '__dict__', '__dir__', '__doc__', '__eq__', '__format__', '__ge__', '__getattribute__', '__gt__', '__hash__', '__init__', '__init_subclass__', '__le__', '__lt__', '__module__', '__ne__', '__new__', '__reduce__', '__reduce_ex__', '__repr__', '__setattr__', '__sizeof__', '__str__', '__subclasshook__', '__weakref__', 'board', 'board_dimensions', 'boats', 'lives', 'place_boats']\n",
      "[['~' '~' '~' '~' '~' '~' '~' '~' '~' '~']\n",
      " ['~' '~' '~' '~' '~' '~' '~' '~' '~' '~']\n",
      " ['~' '~' '~' '~' '~' '~' '~' '~' '~' '~']\n",
      " ['~' '~' '~' '~' '~' '~' '~' '~' '~' '~']\n",
      " ['~' '~' '~' '~' '~' '~' '~' '~' '~' '~']\n",
      " ['~' '~' '~' '~' '~' '~' '~' '~' '~' '~']\n",
      " ['~' '~' '~' '~' '~' '~' '~' '~' '~' '~']\n",
      " ['~' '~' '~' '~' '~' '~' '~' '~' '~' '~']\n",
      " ['~' '~' '~' '~' '~' '~' '~' '~' '~' '~']\n",
      " ['~' '~' '~' '~' '~' '~' '~' '~' '~' '~']]\n"
     ]
    }
   ],
   "source": [
    "from variables import *\n",
    "from battleship_game_functions import *\n",
    "import numpy as np\n",
    "\n",
    "class Board:\n",
    "    \"\"\"\n",
    "    \n",
    "    \"\"\"\n",
    "    boats = boats\n",
    "    board_dimensions = board_dimensions\n",
    "    lives = lives\n",
    "    board = np.full(board_dimensions, \"~\")\n",
    "    \n",
    "    def __init__(self, id):\n",
    "        self.id = id\n",
    "    \n",
    "    def place_boats(self, boats, board):\n",
    "        \n",
    "        pass\n",
    "    \n",
    "    def select_random_positions(self):\n",
    "        \n",
    "    \n",
    "    \n",
    "player_board = Board\n",
    "print(dir(player_board))\n",
    "print(player_board.board)\n",
    "\n",
    "\n"
   ]
  },
  {
   "cell_type": "code",
   "execution_count": 2,
   "metadata": {},
   "outputs": [
    {
     "data": {
      "text/plain": [
       "[(7, 8), (7, 7), (7, 6)]"
      ]
     },
     "execution_count": 2,
     "metadata": {},
     "output_type": "execute_result"
    }
   ],
   "source": [
    "import numpy as np\n",
    "import random\n",
    "from variables import *\n",
    "\n",
    "def random_positions_boat(size):\n",
    "    \"\"\"\n",
    "    Generate a randomly positioned boat of given size and check it doesn't overflow board\n",
    "    \n",
    "    Args\n",
    "        size (int): takes in the boat size\n",
    "        \n",
    "    Return\n",
    "        boat_positions (list): list of tuple coordinates for the boat within the board\n",
    "    \"\"\"\n",
    "    while True:\n",
    "        # set random starting coordinate\n",
    "        boat_start = (random.randint(0, 9), random.randint(0, 9))\n",
    "        # create the 4 directions\n",
    "        north, south, east, west = ((1, 0), (-1, 0), (0, 1), (0, -1))\n",
    "        # select one of the 4 directions to extend the boat\n",
    "        direction = random.choice([north, south, east, west])\n",
    "        \n",
    "        # generate the vectors in each orientation for boat positions\n",
    "        x_positions = np.array([boat_start[0]+(i*direction[0]) for i in range(size)])\n",
    "        y_positions = np.array([boat_start[1]+(i*direction[1]) for i in range(size)])\n",
    "        # check we haven't overflown board, if so restart loop\n",
    "        all_positions = np.concatenate((x_positions, y_positions))\n",
    "        if np.min(all_positions) < 0 or np.max(all_positions) > (board_dimensions[0] - 1):\n",
    "            continue\n",
    "        # add coordinates of \n",
    "        boat_positions = [(x, y) for x, y in zip(x_positions, y_positions)]\n",
    "        break\n",
    "        \n",
    "    return boat_positions\n",
    "\n",
    "random_positions_boat(3)\n",
    "    "
   ]
  },
  {
   "cell_type": "code",
   "execution_count": 18,
   "metadata": {},
   "outputs": [],
   "source": [
    "def check_potential_location(boat_positions, board):\n",
    "    \"\"\"\n",
    "    Function to check whether boat can be added to board without breaking placing rules\n",
    "\n",
    "    \"\"\"\n",
    "    return [board[position] for position in boat_positions]"
   ]
  },
  {
   "cell_type": "code",
   "execution_count": 20,
   "metadata": {},
   "outputs": [
    {
     "name": "stdout",
     "output_type": "stream",
     "text": [
      "[(5, 7), (5, 6)]\n",
      "[['~' '~' '~' '~' '~' '~' '~' '~' '~' '~']\n",
      " ['~' '~' '~' '~' '~' '~' '~' '~' '~' '~']\n",
      " ['~' '~' '~' '~' '~' '~' '~' '~' '~' '~']\n",
      " ['~' '~' '~' '~' '~' '~' '~' '~' '~' '~']\n",
      " ['~' '~' '~' '~' '~' '~' '~' '~' '~' '~']\n",
      " ['~' '~' '~' '~' '~' '~' '~' '~' '~' '~']\n",
      " ['~' '~' '~' '~' '~' '~' '~' '~' '~' '~']\n",
      " ['~' '~' '~' '~' '~' '~' '~' '~' '~' '~']\n",
      " ['~' '~' '~' '~' '~' '~' '~' '~' '~' '~']\n",
      " ['~' '~' '~' '~' '~' '~' '~' '~' '~' '~']]\n",
      "['~', '~']\n"
     ]
    }
   ],
   "source": [
    "boat_positions = random_positions_boat(2)\n",
    "board = np.full((10, 10), \"~\")\n",
    "\n",
    "\n",
    "print(boat_positions)\n",
    "print(board)\n",
    "print(check_boat(boat_positions, board))\n",
    "#check_boat(boat_positions, board)\n",
    "###### get the value from board at positions of boat"
   ]
  },
  {
   "cell_type": "code",
   "execution_count": 27,
   "metadata": {},
   "outputs": [
    {
     "name": "stdout",
     "output_type": "stream",
     "text": [
      "100\n",
      "9 (0, 9) 99\n"
     ]
    }
   ],
   "source": [
    "all_positions = [(x, y) for x in range(10) for y in range(10)]\n",
    "print(len(all_positions))\n",
    "random_position = random.choice(all_positions)\n",
    "i = all_positions.index(random_position)\n",
    "random_shot = all_positions.pop(i)\n",
    "print(i, random_shot, len(all_positions))"
   ]
  },
  {
   "cell_type": "code",
   "execution_count": null,
   "metadata": {},
   "outputs": [],
   "source": [
    "def turn(player, opponent, shot):\n",
    "    \"\"\"\n",
    "    Takes the coordinates of a shot and updates opponent board and lives. Allows further shots while current shot is successful.\n",
    "    Uses Board.fire() method\n",
    "    \n",
    "    Args\n",
    "        player (class Board instance): the Board.fire() method called for player taking current turn\n",
    "        opponent (class Baord instance): latest version of opponents board\n",
    "        shot (tuple): x and y coordinates of the shot\n",
    "        \n",
    "    Returns\n",
    "        None\n",
    "    \"\"\"\n",
    "    while True:\n",
    "        opponent.board, hit, opponent.lives = player.fire(shot[0], shot[1], opponent.board, opponent.lives)\n",
    "        if hit == False:\n",
    "            break\n",
    "        if player.id != \"Computer\":\n",
    "            print(f\"Here is your shot history to plan your next move: {player.shots_board}\")\n",
    "        if opponent.lives == 0:\n",
    "            break"
   ]
  }
 ],
 "metadata": {
  "kernelspec": {
   "display_name": "Python 3.7.4 64-bit",
   "language": "python",
   "name": "python3"
  },
  "language_info": {
   "codemirror_mode": {
    "name": "ipython",
    "version": 3
   },
   "file_extension": ".py",
   "mimetype": "text/x-python",
   "name": "python",
   "nbconvert_exporter": "python",
   "pygments_lexer": "ipython3",
   "version": "3.7.4"
  },
  "orig_nbformat": 4,
  "vscode": {
   "interpreter": {
    "hash": "767d51c1340bd893661ea55ea3124f6de3c7a262a8b4abca0554b478b1e2ff90"
   }
  }
 },
 "nbformat": 4,
 "nbformat_minor": 2
}
